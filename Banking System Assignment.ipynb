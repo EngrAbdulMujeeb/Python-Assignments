{
 "cells": [
  {
   "cell_type": "markdown",
   "id": "f53df3f4-9a91-4c2d-9e9c-67222b2fb104",
   "metadata": {},
   "source": [
    "# Mandatory Project:\n",
    "# Banking System Assignment (Functional Programming)"
   ]
  },
  {
   "cell_type": "markdown",
   "id": "a173eb65-8231-44a0-b65e-9bcc8e8c484d",
   "metadata": {},
   "source": [
    "### Name: Abdul Mujeeb\n",
    "### Roll No: 332996\n",
    "### Batch: 08"
   ]
  },
  {
   "cell_type": "code",
   "execution_count": 4,
   "id": "e448184b-4cc7-4737-ad8d-8fefdfd7c90f",
   "metadata": {},
   "outputs": [
    {
     "name": "stdin",
     "output_type": "stream",
     "text": [
      "Enter the number from (1-5):  4\n"
     ]
    },
    {
     "name": "stdout",
     "output_type": "stream",
     "text": [
      "Your Balance is: 2000.00 PKR\n",
      "Thanks for Using HBL!\n",
      "Our official Number is 12345  , HBL never ask OTP or account password \n"
     ]
    }
   ],
   "source": [
    "transaction_file = \"transactions.txt\"  \n",
    "balance_file = \"balance.txt\"  \n",
    "\n",
    "def load_balance():\n",
    "    try:\n",
    "        with open(balance_file, \"r\") as file:\n",
    "            balance = float(file.read())\n",
    "    except FileNotFoundError:\n",
    "        balance = 0.0\n",
    "    return balance\n",
    "\n",
    "def save_balance(balance):\n",
    "    with open(balance_file, \"w\") as file:\n",
    "        file.write(f\"{balance:.2f}\")\n",
    "\n",
    "def create_account(name):\n",
    "    account = {\n",
    "        \"name\": name,\n",
    "        \"balance\": 0.0,\n",
    "        \"transactions\": []\n",
    "    }\n",
    "    return account\n",
    "\n",
    "def deposit_money(amount, balance):\n",
    "    if amount > 0:\n",
    "        balance += amount\n",
    "        save_balance(balance)\n",
    "        with open(transaction_file, \"a\") as file:\n",
    "            file.write(f\"Deposited: {amount:.2f} PKR\\n\")\n",
    "        return balance\n",
    "    else:\n",
    "        return \"Invalid deposit amount. Please enter a positive value.\"\n",
    "\n",
    "def withdraw_money(amount, balance):\n",
    "    if amount <= 0:\n",
    "        return \"Invalid withdrawal amount. Please enter a positive value.\"\n",
    "    elif amount > balance:\n",
    "        return \"Insufficient balance. Withdrawal failed.\"\n",
    "    else:\n",
    "        balance -= amount\n",
    "        save_balance(balance)\n",
    "        with open(transaction_file, \"a\") as file:\n",
    "            file.write(f\"Withdrew: {amount:.2f} PKR\\n\")\n",
    "        return balance\n",
    "\n",
    "def show_balance(balance):\n",
    "    print(f\"Your Balance is: {balance:.2f} PKR\")\n",
    "\n",
    "def print_statement():\n",
    "    try:\n",
    "        with open(transaction_file, \"r\") as file:\n",
    "            transactions = file.readlines()\n",
    "            print(\"\\nTransaction Statement:\")\n",
    "            balance = load_balance()  \n",
    "            for transaction in transactions:\n",
    "                print(transaction.strip())  # Print each transaction\n",
    "            print(f\"Current Balance: {balance:.2f} PKR\")  # Show final balance\n",
    "    except FileNotFoundError:\n",
    "        print(\"No transactions available.\")\n",
    "\n",
    "# Main procedure\n",
    "balance = load_balance()  # Load the saved balance from the file\n",
    "\n",
    "User_choice = int(input(\"Enter the number from (1-5): \"))\n",
    "if User_choice == 1:\n",
    "    name = input(\"Enter your name: \")\n",
    "    account = create_account(name)\n",
    "    print(\"Account created successfully:\", account)\n",
    "elif User_choice == 2:\n",
    "    amount = float(input(\"Enter the deposited amount: \"))\n",
    "    result = deposit_money(amount, balance)\n",
    "    if isinstance(result, float):\n",
    "        print(f\"Successfully deposited! Your new balance is: {result:.2f} PKR\")\n",
    "        balance = result  # Update the balance in memory\n",
    "    else:\n",
    "        print(result)\n",
    "elif User_choice == 3:\n",
    "    amount = float(input(\"Enter the amount for with draw: \"))\n",
    "    result = withdraw_money(amount, balance)\n",
    "    if isinstance(result, float):\n",
    "        print(f\"Successfully withdrawn! Your reamaing Balance: {result:.2f} PKR\")\n",
    "        balance = result  \n",
    "    else:\n",
    "        print(result)\n",
    "elif User_choice == 4:\n",
    "    show_balance(balance)\n",
    "elif User_choice == 5:\n",
    "    print_statement() \n",
    "elif User_choice > 5:\n",
    "    print(\"Please enter a valid number\")\n",
    "\n",
    "print(\"Thanks for Using HBL!\")\n",
    "print(\"Our official Number is 12345  , HBL never ask OTP or account password \")\n"
   ]
  },
  {
   "cell_type": "code",
   "execution_count": null,
   "id": "692f0086-55ac-4dbc-9cc4-2bc4f733ec38",
   "metadata": {},
   "outputs": [],
   "source": []
  }
 ],
 "metadata": {
  "kernelspec": {
   "display_name": "Python 3 (ipykernel)",
   "language": "python",
   "name": "python3"
  },
  "language_info": {
   "codemirror_mode": {
    "name": "ipython",
    "version": 3
   },
   "file_extension": ".py",
   "mimetype": "text/x-python",
   "name": "python",
   "nbconvert_exporter": "python",
   "pygments_lexer": "ipython3",
   "version": "3.12.7"
  }
 },
 "nbformat": 4,
 "nbformat_minor": 5
}
